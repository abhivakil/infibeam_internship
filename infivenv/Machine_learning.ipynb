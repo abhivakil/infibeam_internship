{
 "cells": [
  {
   "cell_type": "code",
   "execution_count": null,
   "metadata": {},
   "outputs": [],
   "source": [
    "#1program for factorial of a number\n",
    "\n",
    "num=int(input(\"please enter any number: \"))\n",
    "\n",
    "factorial=1\n",
    "\n",
    "#check for +,- and 0\n",
    "if num<0:\n",
    "    print(\"Factorial doesn't exist\")\n",
    "if num==0:\n",
    "    print(\"Factorial is 1\")\n",
    "else:\n",
    "    for i in range(1,num+1):\n",
    "        factorial=factorial*i\n",
    "    print(factorial)                 \n"
   ]
  },
  {
   "cell_type": "code",
   "execution_count": null,
   "metadata": {},
   "outputs": [],
   "source": [
    "#reverse a string in python\n",
    "string=str(input(\"enter any word\"))\n",
    "string=''.join(reversed(string))\n",
    "print(string)\n"
   ]
  },
  {
   "cell_type": "code",
   "execution_count": null,
   "metadata": {},
   "outputs": [],
   "source": [
    "#Q6\n",
    "for i in range(0,100):\n",
    "    if i==13 and 17 and 18:\n",
    "        pass\n",
    "    else:\n",
    "        print(i)"
   ]
  },
  {
   "cell_type": "code",
   "execution_count": null,
   "metadata": {},
   "outputs": [],
   "source": [
    "#Q7\n",
    "def checkYear(year):\n",
    "    if (year % 4) == 0:\n",
    "        if (year % 100) == 0:\n",
    "            if (year % 400) == 0:\n",
    "                return True\n",
    "            else:\n",
    "                return False\n",
    "        else:\n",
    "    else:\n",
    "             return True\n",
    "        return False\n",
    " \n",
    "year = 2000\n",
    "if(checkYear(year)):\n",
    "    print(\"Leap Year\")\n",
    "else:\n",
    "    print(\"Not a Leap Year\")\n"
   ]
  },
  {
   "cell_type": "code",
   "execution_count": null,
   "metadata": {},
   "outputs": [],
   "source": [
    "#jupiter commands\n",
    "#magic command\n",
    "#%%writefile-to make python files in jupiter using magic command\n",
    "#%load used to call file\n",
    "# %run-used to run the file \n",
    "# s1.time.time()to get current time in variable s1\n",
    "#commmands for creating virtual environment in jupiter\n",
    "#   conda create -n vir_name package want to install\n",
    "#   conda activate vir_filename\n",
    "#   conda deactivate \n",
    "\n",
    "# adding a username in jupyter\n",
    "# pip install --user ipykernel\n",
    "# python -m ipykernel install --user --name=lab2\n",
    "\n",
    "#--for uninstalling virtual Environment\n",
    "# jupiter kernelspec uninstall<VE>"
   ]
  },
  {
   "cell_type": "code",
   "execution_count": 1,
   "metadata": {},
   "outputs": [],
   "source": [
    "import numpy as np"
   ]
  },
  {
   "cell_type": "code",
   "execution_count": null,
   "metadata": {},
   "outputs": [],
   "source": [
    "#all about numpy\n",
    "1)print dimention of array\n",
    "--print(arr2.shape)\n",
    "2)print(arr.dtype)\n",
    "--to see type of array that we created\n"
   ]
  },
  {
   "cell_type": "code",
   "execution_count": 22,
   "metadata": {},
   "outputs": [
    {
     "name": "stdout",
     "output_type": "stream",
     "text": [
      "['1' '2' '3' '4.5' 'a']\n",
      "['210' '2' '3' '4.5' 'a']\n"
     ]
    }
   ],
   "source": [
    "#adding value in numpy array\n",
    "a=np.array([1,2,3,4.5,'a'])\n",
    "print(a)\n",
    "a[0]='210'\n",
    "print(a)\n",
    "\n",
    "\n"
   ]
  },
  {
   "cell_type": "code",
   "execution_count": null,
   "metadata": {},
   "outputs": [],
   "source": []
  }
 ],
 "metadata": {
  "interpreter": {
   "hash": "b68e15102b7ab05ce853750c3d8b9a08dcde73222bd1d52b557ee6601d6c21f4"
  },
  "kernelspec": {
   "display_name": "Python 3.9.13 ('infivenv': venv)",
   "language": "python",
   "name": "python3"
  },
  "language_info": {
   "codemirror_mode": {
    "name": "ipython",
    "version": 3
   },
   "file_extension": ".py",
   "mimetype": "text/x-python",
   "name": "python",
   "nbconvert_exporter": "python",
   "pygments_lexer": "ipython3",
   "version": "3.9.13"
  },
  "orig_nbformat": 4
 },
 "nbformat": 4,
 "nbformat_minor": 2
}
